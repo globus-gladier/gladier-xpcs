{
 "cells": [
  {
   "cell_type": "code",
   "execution_count": 12,
   "id": "7cc10507",
   "metadata": {},
   "outputs": [],
   "source": [
    "# Creating the search client\n",
    "\n",
    "## Globus client ID and portal ID\n",
    "CLIENT_ID = \"04dc20ba-d8e4-4a9a-9cc9-3ed3f3d49447\" \n",
    "# INDEX_ID = \"6871e83e-866b-41bc-8430-e3cf83b43bdc\" # Old XPCS index.\n",
    "INDEX_ID = \"4428cfe6-611b-48db-81b2-167a7d9710ea\"\n",
    "\n",
    "import globus_sdk\n",
    "\n",
    "app = globus_sdk.UserApp(\n",
    "    app_name=\"Notebook Main App\",\n",
    "    client_id=CLIENT_ID)\n",
    "\n",
    "search_client = globus_sdk.SearchClient(app=app)\n",
    "\n",
    "\n",
    "# Globus login\n",
    "app.login()\n",
    "\n",
    "## Query function\n",
    "def make_query(query, field_name='dc.identifiers.identifier', filter_value='*',  limit=10):\n",
    "    \n",
    "    query_data = {\n",
    "        'q':query,\n",
    "        'limit': limit,\n",
    "        'advanced' : True,\n",
    "        'filters' : [\n",
    "            {\n",
    "                \"type\": \"like\",\n",
    "                \"field_name\": field_name,\n",
    "                \"value\": filter_value\n",
    "            }\n",
    "        ]\n",
    "    }\n",
    "    print(query_data)\n",
    "    response = search_client.post_search(\n",
    "        index_id=INDEX_ID,\n",
    "        data=query_data\n",
    "        )\n",
    "    print(\"Query results: \" + str(response['total']))\n",
    "    return response"
   ]
  },
  {
   "cell_type": "code",
   "execution_count": 15,
   "id": "2b300ec6-14bd-464a-91e0-cec7cd657d5b",
   "metadata": {},
   "outputs": [
    {
     "ename": "ImportError",
     "evalue": "cannot import name 'parse_result_files' from 'metadata' (/home/rvescovi/gladier-xpcs/notebooks/metadata.py)",
     "output_type": "error",
     "traceback": [
      "\u001b[31m---------------------------------------------------------------------------\u001b[39m",
      "\u001b[31mImportError\u001b[39m                               Traceback (most recent call last)",
      "\u001b[36mCell\u001b[39m\u001b[36m \u001b[39m\u001b[32mIn[15]\u001b[39m\u001b[32m, line 2\u001b[39m\n\u001b[32m      1\u001b[39m \u001b[38;5;66;03m# extra functions for plotting and searching\u001b[39;00m\n\u001b[32m----> \u001b[39m\u001b[32m2\u001b[39m \u001b[38;5;28;01mfrom\u001b[39;00m\u001b[38;5;250m \u001b[39m\u001b[34;01mmetadata\u001b[39;00m\u001b[38;5;250m \u001b[39m\u001b[38;5;28;01mimport\u001b[39;00m parse_result_files\n\u001b[32m      3\u001b[39m \u001b[38;5;28;01mfrom\u001b[39;00m\u001b[38;5;250m \u001b[39m\u001b[34;01mnb_plot\u001b[39;00m\u001b[38;5;250m \u001b[39m\u001b[38;5;28;01mimport\u001b[39;00m start_new_plot, plot_hdf_overlay, show_plot\n",
      "\u001b[31mImportError\u001b[39m: cannot import name 'parse_result_files' from 'metadata' (/home/rvescovi/gladier-xpcs/notebooks/metadata.py)"
     ]
    }
   ],
   "source": [
    "# extra functions for plotting and searching\n",
    "from metadata import parse_result_files\n",
    "from nb_plot import start_new_plot, plot_hdf_overlay, show_plot"
   ]
  },
  {
   "cell_type": "code",
   "execution_count": 14,
   "id": "d168410a-24db-4a4f-b189-190957d16ad3",
   "metadata": {},
   "outputs": [
    {
     "ename": "TypeError",
     "evalue": "make_query() got an unexpected keyword argument 'query_data'",
     "output_type": "error",
     "traceback": [
      "\u001b[31m---------------------------------------------------------------------------\u001b[39m",
      "\u001b[31mTypeError\u001b[39m                                 Traceback (most recent call last)",
      "\u001b[36mCell\u001b[39m\u001b[36m \u001b[39m\u001b[32mIn[14]\u001b[39m\u001b[32m, line 3\u001b[39m\n\u001b[32m      1\u001b[39m \u001b[38;5;66;03m## Full Milliron query\u001b[39;00m\n\u001b[32m      2\u001b[39m query_data = \u001b[33m\"\u001b[39m\u001b[33mmilliron\u001b[39m\u001b[33m\"\u001b[39m  \u001b[38;5;66;03m# Match all entries (or a specific keyword)\u001b[39;00m\n\u001b[32m----> \u001b[39m\u001b[32m3\u001b[39m milli_response = \u001b[43mmake_query\u001b[49m\u001b[43m(\u001b[49m\u001b[43mquery_data\u001b[49m\u001b[43m \u001b[49m\u001b[43m=\u001b[49m\u001b[43m \u001b[49m\u001b[33;43m\"\u001b[39;49m\u001b[33;43mmilliron\u001b[39;49m\u001b[33;43m\"\u001b[39;49m\u001b[43m)\u001b[49m\n",
      "\u001b[31mTypeError\u001b[39m: make_query() got an unexpected keyword argument 'query_data'"
     ]
    }
   ],
   "source": [
    "## Full Milliron query\n",
    "query_data = \"milliron\"  # Match all entries (or a specific keyword)\n",
    "milli_response = make_query(query_data = \"milliron\")"
   ]
  },
  {
   "cell_type": "code",
   "execution_count": null,
   "id": "7d2a57be",
   "metadata": {},
   "outputs": [],
   "source": [
    "extract_metadata_structure(milli_response)\n",
    "\n",
    "# Get key-value pairs for the first entry\n",
    "entry = milli_response[\"gmeta\"][0]\n",
    "values = extract_entry_key_values(entry)\n",
    "\n",
    "# Print all DC metadata\n",
    "print(\"Dublin Core Metadata:\")\n",
    "for key, value in values[\"dc\"]:\n",
    "    print(f\"{key}: {value}\")\n",
    "\n",
    "# Print all project metadata\n",
    "print(\"\\nProject Metadata:\")\n",
    "for key, value in values[\"project_metadata\"]:\n",
    "    print(f\"{key}: {value}\")\n",
    "\n",
    "# Print all file metadata\n",
    "print(\"\\nFile Metadata:\")\n",
    "for key, value in values[\"files\"]:\n",
    "    print(f\"{key}: {value}\")"
   ]
  }
 ],
 "metadata": {
  "kernelspec": {
   "display_name": "xpcs",
   "language": "python",
   "name": "xpcs"
  },
  "language_info": {
   "codemirror_mode": {
    "name": "ipython",
    "version": 3
   },
   "file_extension": ".py",
   "mimetype": "text/x-python",
   "name": "python",
   "nbconvert_exporter": "python",
   "pygments_lexer": "ipython3",
   "version": "3.11.11"
  }
 },
 "nbformat": 4,
 "nbformat_minor": 5
}
