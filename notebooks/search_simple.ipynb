{
 "cells": [
  {
   "cell_type": "code",
   "execution_count": 1,
   "id": "7cc10507",
   "metadata": {},
   "outputs": [],
   "source": [
    "import globus_sdk\n",
    "# Use native app credentials if you have a client ID\n",
    "CLIENT_ID = \"04dc20ba-d8e4-4a9a-9cc9-3ed3f3d49447\" \n",
    "\n",
    "# Create a UserApp instance\n",
    "app = globus_sdk.UserApp(\n",
    "    app_name=\"Notebook Main App\",\n",
    "    client_id=CLIENT_ID)\n",
    "\n",
    "search_client = globus_sdk.SearchClient(app=app)\n",
    "\n",
    "# Login if needed (Nick says probably not needed)\n",
    "app.login()"
   ]
  },
  {
   "cell_type": "code",
   "execution_count": 2,
   "id": "e2f51aa6-04a5-4325-af0a-5682dcea3db4",
   "metadata": {},
   "outputs": [],
   "source": [
    "# INDEX_ID = \"6871e83e-866b-41bc-8430-e3cf83b43bdc\" # Old XPCS index.\n",
    "INDEX_ID = \"4428cfe6-611b-48db-81b2-167a7d9710ea\""
   ]
  },
  {
   "cell_type": "code",
   "execution_count": 3,
   "id": "2b300ec6-14bd-464a-91e0-cec7cd657d5b",
   "metadata": {},
   "outputs": [],
   "source": [
    "\n",
    "\n",
    "##helpful functions (in development)\n",
    "def make_query(query_data, show_entries=True, limit=10):\n",
    "    response = search_client.post_search(\n",
    "        index_id=INDEX_ID,\n",
    "        data={\"q\": query_data, \"limit\": limit}\n",
    "        )\n",
    "    print(\"Query results: \" + str(response['total']))\n",
    "    if show_entries and response['total']>0:\n",
    "        print(response['gmeta'][0][\"entries\"][0][\"content\"][\"dc\"][\"identifiers\"][0][\"identifier\"])\n",
    "    return response\n"
   ]
  },
  {
   "cell_type": "code",
   "execution_count": 4,
   "id": "0e36ff1a-880e-4fc2-b1be-0a00e67081ac",
   "metadata": {},
   "outputs": [
    {
     "name": "stdout",
     "output_type": "stream",
     "text": [
      "Query results: 0\n"
     ]
    },
    {
     "data": {
      "text/plain": [
       "GlobusHTTPResponse({\"total\":0,\"gmeta\":[],\"@datatype\":\"GSearchResult\",\"@version\":\"2017-09-01\",\"offset\":0,\"count\":0,\"has_next_page\":false})"
      ]
     },
     "execution_count": 4,
     "metadata": {},
     "output_type": "execute_result"
    }
   ],
   "source": [
    "## This is the wrong query, just for testing\n",
    "query_data = \"bacon\"  # Match all entries (or a specific keyword)\n",
    "make_query(query_data)"
   ]
  },
  {
   "cell_type": "code",
   "execution_count": 5,
   "id": "d168410a-24db-4a4f-b189-190957d16ad3",
   "metadata": {},
   "outputs": [
    {
     "name": "stdout",
     "output_type": "stream",
     "text": [
      "Query results: 21972\n",
      "globus://74defd5b-5f61-42fc-bcc4-834c9f376a4f/XPCSDATA/Automate/2025-1/milliron202503/rigaku_qmap_Sq360_Dq36_Lin_0501/Utime38844_26nm-AL-ITO-gel-50mM-TBAPF6_a0118_f100000_r00001\n"
     ]
    }
   ],
   "source": [
    "## Full Milliron query\n",
    "query_data = \"milliron\"  # Match all entries (or a specific keyword)\n",
    "milli_response = make_query(query_data = \"milliron\")"
   ]
  },
  {
   "cell_type": "code",
   "execution_count": 8,
   "id": "3f2f23d3",
   "metadata": {},
   "outputs": [
    {
     "name": "stdout",
     "output_type": "stream",
     "text": [
      "Query results: 12\n",
      "globus://74defd5b-5f61-42fc-bcc4-834c9f376a4f/XPCSDATA/Automate/2025-1/milliron202503/rigaku_qmap_Sq360_Dq36_Lin_0501/D0044_D100_a0050_f100000_t534C_r00003\n"
     ]
    }
   ],
   "source": [
    "query_data = {\n",
    "    'q':\"milliron\",\n",
    "    'limit':10,\n",
    "    'advanced' : True,\n",
    "    'filters' : [ \n",
    "            {\n",
    "                \"type\": \"like\",\n",
    "                \"field_name\": \"dc.identifiers.identifier\",\n",
    "                \"value\":\"*D100*\"\n",
    "            },\n",
    "    ],\n",
    "}\n",
    "response = search_client.post_search(index_id=INDEX_ID, data=query_data)\n",
    "\n",
    "print(\"Query results: \" + str(response['total']))\n",
    "if response['total']>0:\n",
    "    print(response['gmeta'][0][\"entries\"][0][\"content\"][\"dc\"][\"identifiers\"][0][\"identifier\"])\n"
   ]
  },
  {
   "cell_type": "code",
   "execution_count": 11,
   "id": "d293199b",
   "metadata": {},
   "outputs": [
    {
     "name": "stdout",
     "output_type": "stream",
     "text": [
      "globus://74defd5b-5f61-42fc-bcc4-834c9f376a4f/XPCSDATA/Automate/2025-1/milliron202503/rigaku_qmap_Sq360_Dq36_Lin_0501/D0044_D100_a0050_f100000_t534C_r00003\n",
      "globus://74defd5b-5f61-42fc-bcc4-834c9f376a4f/XPCSDATA/Automate/2025-1/milliron202503/rigaku_qmap_Sq360_Dq36_Lin_0501/D0043_D100_a0010_f100000_t545C_r00001\n",
      "globus://74defd5b-5f61-42fc-bcc4-834c9f376a4f/XPCSDATA/Automate/2025-1/milliron202503/rigaku_qmap_Sq360_Dq36_Lin_0501/D0044_D100_a0050_f100000_t534C_r00004\n",
      "globus://74defd5b-5f61-42fc-bcc4-834c9f376a4f/XPCSDATA/Automate/2025-1/milliron202503/rigaku_qmap_Sq360_Dq36_Lin_0501/D0044_D100_a0050_f100000_t534C_r00002\n",
      "globus://74defd5b-5f61-42fc-bcc4-834c9f376a4f/XPCSDATA/Automate/2025-1/milliron202503/rigaku_qmap_Sq360_Dq36_Lin_0501/D0044_D100_a0050_f100000_t534C_r00001\n",
      "globus://74defd5b-5f61-42fc-bcc4-834c9f376a4f/XPCSDATA/Automate/2025-1/milliron202503/rigaku_qmap_Sq360_Dq36_Lin_0501/D0042_D100_a0010_f100000_t564C_r00001\n",
      "globus://74defd5b-5f61-42fc-bcc4-834c9f376a4f/XPCSDATA/Automate/2025-1/milliron202503/rigaku_qmap_Sq360_Dq36_Lin_0501/D0042_D100_a0010_f100000_t564C_r00002\n",
      "globus://74defd5b-5f61-42fc-bcc4-834c9f376a4f/XPCSDATA/Automate/2025-1/milliron202503/rigaku_qmap_Sq360_Dq36_Lin_0501/D0043_D100_a0010_f100000_t545C_r00005\n",
      "globus://74defd5b-5f61-42fc-bcc4-834c9f376a4f/XPCSDATA/Automate/2025-1/milliron202503/rigaku_qmap_Sq360_Dq36_Lin_0501/D0043_D100_a0010_f100000_t545C_r00003\n",
      "globus://74defd5b-5f61-42fc-bcc4-834c9f376a4f/XPCSDATA/Automate/2025-1/milliron202503/rigaku_qmap_Sq360_Dq36_Lin_0501/D0042_D100_a0010_f100000_t564C_r00005\n"
     ]
    }
   ],
   "source": [
    "for k in response['gmeta']:\n",
    "        print(k[\"entries\"][0][\"content\"][\"dc\"][\"identifiers\"][0][\"identifier\"])\n"
   ]
  },
  {
   "cell_type": "code",
   "execution_count": null,
   "id": "7d2a57be",
   "metadata": {},
   "outputs": [],
   "source": []
  }
 ],
 "metadata": {
  "kernelspec": {
   "display_name": "ssx",
   "language": "python",
   "name": "python3"
  },
  "language_info": {
   "codemirror_mode": {
    "name": "ipython",
    "version": 3
   },
   "file_extension": ".py",
   "mimetype": "text/x-python",
   "name": "python",
   "nbconvert_exporter": "python",
   "pygments_lexer": "ipython3",
   "version": "3.11.13"
  }
 },
 "nbformat": 4,
 "nbformat_minor": 5
}
