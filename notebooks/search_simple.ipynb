{
 "cells": [
  {
   "cell_type": "code",
   "execution_count": 1,
   "id": "7cc10507",
   "metadata": {},
   "outputs": [
    {
     "name": "stdout",
     "output_type": "stream",
     "text": [
      "\n",
      "Please authenticate with Globus here:\n",
      "-------------------------------------\n",
      "https://auth.globus.org/v2/oauth2/authorize?client_id=04dc20ba-d8e4-4a9a-9cc9-3ed3f3d49447&redirect_uri=https%3A%2F%2Fauth.globus.org%2Fv2%2Fweb%2Fauth-code&scope=openid+urn%3Aglobus%3Aauth%3Ascope%3Asearch.api.globus.org%3Asearch&state=_default&response_type=code&code_challenge=ELk-aYxg0vbxiLZwg7ah2VwTvGdrRF0gmVnkX3bZXfU&code_challenge_method=S256&access_type=online&prefill_named_grant=Notebook+Main+App+on+tardis\n",
      "-------------------------------------\n",
      "\n"
     ]
    }
   ],
   "source": [
    "import globus_sdk\n",
    "# Use native app credentials if you have a client ID\n",
    "CLIENT_ID = \"04dc20ba-d8e4-4a9a-9cc9-3ed3f3d49447\" \n",
    "\n",
    "# Create a UserApp instance\n",
    "app = globus_sdk.UserApp(\n",
    "    app_name=\"Notebook Main App\",\n",
    "    client_id=CLIENT_ID)\n",
    "\n",
    "search_client = globus_sdk.SearchClient(app=app)\n",
    "\n",
    "# Login if needed (Nick says probably not needed)\n",
    "app.login()"
   ]
  },
  {
   "cell_type": "code",
   "execution_count": 2,
   "id": "e2f51aa6-04a5-4325-af0a-5682dcea3db4",
   "metadata": {},
   "outputs": [],
   "source": [
    "# INDEX_ID = \"6871e83e-866b-41bc-8430-e3cf83b43bdc\" # Old XPCS index.\n",
    "INDEX_ID = \"4428cfe6-611b-48db-81b2-167a7d9710ea\""
   ]
  },
  {
   "cell_type": "code",
   "execution_count": 3,
   "id": "2b300ec6-14bd-464a-91e0-cec7cd657d5b",
   "metadata": {},
   "outputs": [],
   "source": [
    "\n",
    "\n",
    "##helpful functions (in development)\n",
    "def make_query(query_data, show_entries=True, limit=10):\n",
    "    response = search_client.post_search(\n",
    "        index_id=INDEX_ID,\n",
    "        data={\"q\": query_data, \"limit\": limit}\n",
    "        )\n",
    "    print(\"Query results: \" + str(response['total']))\n",
    "    if show_entries and response['total']>0:\n",
    "        print(response['gmeta'][0][\"entries\"][0][\"content\"][\"dc\"][\"identifiers\"][0][\"identifier\"])\n",
    "    return response\n"
   ]
  },
  {
   "cell_type": "code",
   "execution_count": 4,
   "id": "0e36ff1a-880e-4fc2-b1be-0a00e67081ac",
   "metadata": {},
   "outputs": [
    {
     "name": "stdout",
     "output_type": "stream",
     "text": [
      "Query results: 0\n"
     ]
    },
    {
     "data": {
      "text/plain": [
       "GlobusHTTPResponse({\"total\":0,\"gmeta\":[],\"@datatype\":\"GSearchResult\",\"@version\":\"2017-09-01\",\"offset\":0,\"count\":0,\"has_next_page\":false})"
      ]
     },
     "execution_count": 4,
     "metadata": {},
     "output_type": "execute_result"
    }
   ],
   "source": [
    "## This is the wrong query, just for testing\n",
    "query_data = \"bacon\"  # Match all entries (or a specific keyword)\n",
    "make_query(query_data)"
   ]
  },
  {
   "cell_type": "code",
   "execution_count": 5,
   "id": "d168410a-24db-4a4f-b189-190957d16ad3",
   "metadata": {},
   "outputs": [
    {
     "name": "stdout",
     "output_type": "stream",
     "text": [
      "Query results: 21972\n",
      "globus://74defd5b-5f61-42fc-bcc4-834c9f376a4f/XPCSDATA/Automate/2025-1/milliron202503/rigaku_qmap_Sq360_Dq36_Lin_0501/volfrac114985_10nm-frac_a0050_f100000_r00001\n"
     ]
    }
   ],
   "source": [
    "## Full Milliron query\n",
    "query_data = \"milliron\"  # Match all entries (or a specific keyword)\n",
    "milli_response = make_query(query_data = \"milliron\")"
   ]
  },
  {
   "cell_type": "code",
   "execution_count": 18,
   "id": "3f2f23d3",
   "metadata": {},
   "outputs": [
    {
     "ename": "SearchAPIError",
     "evalue": "('POST', 'https://search.api.globus.org/v1/index/4428cfe6-611b-48db-81b2-167a7d9710ea/search', 'Bearer', 400, 'BadRequest.Generic', \"'name' cannot be used with a 'like' filter because it is not a text field\", '0217089e7b084abd9101afdad46647d9')",
     "output_type": "error",
     "traceback": [
      "\u001b[31m---------------------------------------------------------------------------\u001b[39m",
      "\u001b[31mSearchAPIError\u001b[39m                            Traceback (most recent call last)",
      "\u001b[36mCell\u001b[39m\u001b[36m \u001b[39m\u001b[32mIn[18]\u001b[39m\u001b[32m, line 13\u001b[39m\n\u001b[32m      1\u001b[39m query_data = {\n\u001b[32m      2\u001b[39m     \u001b[33m'\u001b[39m\u001b[33mq\u001b[39m\u001b[33m'\u001b[39m:\u001b[33m\"\u001b[39m\u001b[33mmilliron\u001b[39m\u001b[33m\"\u001b[39m,\n\u001b[32m      3\u001b[39m     \u001b[33m'\u001b[39m\u001b[33mlimit\u001b[39m\u001b[33m'\u001b[39m:\u001b[32m10\u001b[39m,\n\u001b[32m   (...)\u001b[39m\u001b[32m     11\u001b[39m     ],\n\u001b[32m     12\u001b[39m }\n\u001b[32m---> \u001b[39m\u001b[32m13\u001b[39m response = \u001b[43msearch_client\u001b[49m\u001b[43m.\u001b[49m\u001b[43mpost_search\u001b[49m\u001b[43m(\u001b[49m\u001b[43mindex_id\u001b[49m\u001b[43m=\u001b[49m\u001b[43mINDEX_ID\u001b[49m\u001b[43m,\u001b[49m\u001b[43m \u001b[49m\u001b[43mdata\u001b[49m\u001b[43m=\u001b[49m\u001b[43mquery_data\u001b[49m\u001b[43m)\u001b[49m\n\u001b[32m     15\u001b[39m \u001b[38;5;28mprint\u001b[39m(\u001b[33m\"\u001b[39m\u001b[33mQuery results: \u001b[39m\u001b[33m\"\u001b[39m + \u001b[38;5;28mstr\u001b[39m(response[\u001b[33m'\u001b[39m\u001b[33mtotal\u001b[39m\u001b[33m'\u001b[39m]))\n\u001b[32m     16\u001b[39m \u001b[38;5;66;03m# print(response['gmeta'][0][\"entries\"][0][\"content\"][\"dc\"][\"identifiers\"][0][\"identifier\"])\u001b[39;00m\n",
      "\u001b[36mFile \u001b[39m\u001b[32m~/miniconda3/envs/aps/lib/python3.12/site-packages/globus_sdk/services/search/client.py:369\u001b[39m, in \u001b[36mSearchClient.post_search\u001b[39m\u001b[34m(self, index_id, data, offset, limit)\u001b[39m\n\u001b[32m    367\u001b[39m \u001b[38;5;28;01mif\u001b[39;00m add_kwargs:\n\u001b[32m    368\u001b[39m     data = {**data, **add_kwargs}\n\u001b[32m--> \u001b[39m\u001b[32m369\u001b[39m \u001b[38;5;28;01mreturn\u001b[39;00m \u001b[38;5;28;43mself\u001b[39;49m\u001b[43m.\u001b[49m\u001b[43mpost\u001b[49m\u001b[43m(\u001b[49m\u001b[33;43mf\u001b[39;49m\u001b[33;43m\"\u001b[39;49m\u001b[33;43mv1/index/\u001b[39;49m\u001b[38;5;132;43;01m{\u001b[39;49;00m\u001b[43mindex_id\u001b[49m\u001b[38;5;132;43;01m}\u001b[39;49;00m\u001b[33;43m/search\u001b[39;49m\u001b[33;43m\"\u001b[39;49m\u001b[43m,\u001b[49m\u001b[43m \u001b[49m\u001b[43mdata\u001b[49m\u001b[43m=\u001b[49m\u001b[43mdata\u001b[49m\u001b[43m)\u001b[49m\n",
      "\u001b[36mFile \u001b[39m\u001b[32m~/miniconda3/envs/aps/lib/python3.12/site-packages/globus_sdk/client.py:358\u001b[39m, in \u001b[36mBaseClient.post\u001b[39m\u001b[34m(self, path, query_params, data, headers, encoding, automatic_authorization)\u001b[39m\n\u001b[32m    352\u001b[39m \u001b[38;5;250m\u001b[39m\u001b[33;03m\"\"\"\u001b[39;00m\n\u001b[32m    353\u001b[39m \u001b[33;03mMake a POST request to the specified path.\u001b[39;00m\n\u001b[32m    354\u001b[39m \n\u001b[32m    355\u001b[39m \u001b[33;03mSee :py:meth:`~.BaseClient.request` for details on the various parameters.\u001b[39;00m\n\u001b[32m    356\u001b[39m \u001b[33;03m\"\"\"\u001b[39;00m\n\u001b[32m    357\u001b[39m log.debug(\u001b[33mf\u001b[39m\u001b[33m\"\u001b[39m\u001b[33mPOST to \u001b[39m\u001b[38;5;132;01m{\u001b[39;00mpath\u001b[38;5;132;01m}\u001b[39;00m\u001b[33m with query_params \u001b[39m\u001b[38;5;132;01m{\u001b[39;00mquery_params\u001b[38;5;132;01m}\u001b[39;00m\u001b[33m\"\u001b[39m)\n\u001b[32m--> \u001b[39m\u001b[32m358\u001b[39m \u001b[38;5;28;01mreturn\u001b[39;00m \u001b[38;5;28;43mself\u001b[39;49m\u001b[43m.\u001b[49m\u001b[43mrequest\u001b[49m\u001b[43m(\u001b[49m\n\u001b[32m    359\u001b[39m \u001b[43m    \u001b[49m\u001b[33;43m\"\u001b[39;49m\u001b[33;43mPOST\u001b[39;49m\u001b[33;43m\"\u001b[39;49m\u001b[43m,\u001b[49m\n\u001b[32m    360\u001b[39m \u001b[43m    \u001b[49m\u001b[43mpath\u001b[49m\u001b[43m,\u001b[49m\n\u001b[32m    361\u001b[39m \u001b[43m    \u001b[49m\u001b[43mquery_params\u001b[49m\u001b[43m=\u001b[49m\u001b[43mquery_params\u001b[49m\u001b[43m,\u001b[49m\n\u001b[32m    362\u001b[39m \u001b[43m    \u001b[49m\u001b[43mdata\u001b[49m\u001b[43m=\u001b[49m\u001b[43mdata\u001b[49m\u001b[43m,\u001b[49m\n\u001b[32m    363\u001b[39m \u001b[43m    \u001b[49m\u001b[43mheaders\u001b[49m\u001b[43m=\u001b[49m\u001b[43mheaders\u001b[49m\u001b[43m,\u001b[49m\n\u001b[32m    364\u001b[39m \u001b[43m    \u001b[49m\u001b[43mencoding\u001b[49m\u001b[43m=\u001b[49m\u001b[43mencoding\u001b[49m\u001b[43m,\u001b[49m\n\u001b[32m    365\u001b[39m \u001b[43m    \u001b[49m\u001b[43mautomatic_authorization\u001b[49m\u001b[43m=\u001b[49m\u001b[43mautomatic_authorization\u001b[49m\u001b[43m,\u001b[49m\n\u001b[32m    366\u001b[39m \u001b[43m\u001b[49m\u001b[43m)\u001b[49m\n",
      "\u001b[36mFile \u001b[39m\u001b[32m~/miniconda3/envs/aps/lib/python3.12/site-packages/globus_sdk/client.py:522\u001b[39m, in \u001b[36mBaseClient.request\u001b[39m\u001b[34m(self, method, path, query_params, data, headers, encoding, allow_redirects, stream, automatic_authorization)\u001b[39m\n\u001b[32m    519\u001b[39m     \u001b[38;5;28;01mreturn\u001b[39;00m GlobusHTTPResponse(r, \u001b[38;5;28mself\u001b[39m)\n\u001b[32m    521\u001b[39m log.debug(\u001b[33mf\u001b[39m\u001b[33m\"\u001b[39m\u001b[33mrequest completed with (error) response code: \u001b[39m\u001b[38;5;132;01m{\u001b[39;00mr.status_code\u001b[38;5;132;01m}\u001b[39;00m\u001b[33m\"\u001b[39m)\n\u001b[32m--> \u001b[39m\u001b[32m522\u001b[39m \u001b[38;5;28;01mraise\u001b[39;00m \u001b[38;5;28mself\u001b[39m.error_class(r)\n",
      "\u001b[31mSearchAPIError\u001b[39m: ('POST', 'https://search.api.globus.org/v1/index/4428cfe6-611b-48db-81b2-167a7d9710ea/search', 'Bearer', 400, 'BadRequest.Generic', \"'name' cannot be used with a 'like' filter because it is not a text field\", '0217089e7b084abd9101afdad46647d9')"
     ]
    }
   ],
   "source": [
    "query_data = {\n",
    "    'q':\"milliron\",\n",
    "    'limit':10,\n",
    "    'advanced' : True,\n",
    "    'filters' : [ \n",
    "            {\n",
    "                \"type\": \"like\",\n",
    "                \"field_name\": \"name\",\n",
    "                \"value\":\"*milliron*\"\n",
    "            },\n",
    "    ],\n",
    "}\n",
    "response = search_client.post_search(index_id=INDEX_ID, data=query_data)\n",
    "\n",
    "print(\"Query results: \" + str(response['total']))\n",
    "if response['total']>0:\n",
    "    print(response['gmeta'][0][\"entries\"][0][\"content\"][\"dc\"][\"identifiers\"][0][\"identifier\"])\n"
   ]
  }
 ],
 "metadata": {
  "kernelspec": {
   "display_name": "aps",
   "language": "python",
   "name": "python3"
  },
  "language_info": {
   "codemirror_mode": {
    "name": "ipython",
    "version": 3
   },
   "file_extension": ".py",
   "mimetype": "text/x-python",
   "name": "python",
   "nbconvert_exporter": "python",
   "pygments_lexer": "ipython3",
   "version": "3.12.11"
  }
 },
 "nbformat": 4,
 "nbformat_minor": 5
}
