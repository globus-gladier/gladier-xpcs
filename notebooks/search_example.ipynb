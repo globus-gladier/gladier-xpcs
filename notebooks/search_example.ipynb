{
 "cells": [
  {
   "cell_type": "code",
   "execution_count": 1,
   "id": "7cc10507",
   "metadata": {},
   "outputs": [
    {
     "name": "stdout",
     "output_type": "stream",
     "text": [
      "Go to this URL and login: https://auth.globus.org/v2/oauth2/authorize?client_id=04dc20ba-d8e4-4a9a-9cc9-3ed3f3d49447&redirect_uri=https%3A%2F%2Fauth.globus.org%2Fv2%2Fweb%2Fauth-code&scope=urn%3Aglobus%3Aauth%3Ascope%3Asearch.api.globus.org%3Asearch&state=_default&response_type=code&code_challenge=iz5DmFO23N_MQ5J-ChP3DokjJUrun7m1rOQJ_lY8sP8&code_challenge_method=S256&access_type=offline\n"
     ]
    },
    {
     "name": "stdin",
     "output_type": "stream",
     "text": [
      "Enter the authorization code here:  Qf3ZZEh5WKevQ6PK4avIiu0m0BgguD\n"
     ]
    }
   ],
   "source": [
    "import globus_sdk\n",
    "\n",
    "# Use native app credentials if you have a client ID\n",
    "CLIENT_ID = \"04dc20ba-d8e4-4a9a-9cc9-3ed3f3d49447\"\n",
    "\n",
    "SCOPES = [\"urn:globus:auth:scope:search.api.globus.org:search\"]\n",
    "\n",
    "auth_client = globus_sdk.NativeAppAuthClient(CLIENT_ID)\n",
    "auth_client.oauth2_start_flow(\n",
    "    requested_scopes=SCOPES,\n",
    "    refresh_tokens=True\n",
    ")\n",
    "\n",
    "authorize_url = auth_client.oauth2_get_authorize_url()\n",
    "print(\"Go to this URL and login:\", authorize_url)\n",
    "\n",
    "auth_code = input(\"Enter the authorization code here: \").strip()\n",
    "token_response = auth_client.oauth2_exchange_code_for_tokens(auth_code)\n",
    "\n"
   ]
  },
  {
   "cell_type": "code",
   "execution_count": 2,
   "id": "c557bfc1",
   "metadata": {},
   "outputs": [],
   "source": [
    "# Extract the access token for the Search service\n",
    "search_tokens = token_response.by_resource_server[\"search.api.globus.org\"]\n",
    "search_authorizer = globus_sdk.AccessTokenAuthorizer(search_tokens[\"access_token\"])\n",
    "\n",
    "# Initialize the SearchClient with the authorizer\n",
    "search_client = globus_sdk.SearchClient(authorizer=search_authorizer)"
   ]
  },
  {
   "cell_type": "code",
   "execution_count": 6,
   "id": "54621968",
   "metadata": {},
   "outputs": [
    {
     "name": "stdout",
     "output_type": "stream",
     "text": [
      "\n",
      "🔑 Keys found in index 6871e83e-866b-41bc-8430-e3cf83b43bdc:\n"
     ]
    }
   ],
   "source": [
    "INDEX_ID = \"6871e83e-866b-41bc-8430-e3cf83b43bdc\"\n",
    "QUERY = \"*\"  # Match all entries (or a specific keyword)\n",
    "\n",
    "response = search_client.post_search(\n",
    "    index_id=INDEX_ID,\n",
    "    data={\"q\": QUERY, \"limit\": 100}\n",
    ")\n",
    "\n",
    "keys_set = set()\n",
    "for entry in response[\"gmeta\"]:\n",
    "    for content in entry.get(\"content\", []):\n",
    "        keys_set.update(content.keys())\n",
    "\n",
    "print(f\"\\n🔑 Keys found in index {INDEX_ID}:\")\n",
    "for key in sorted(keys_set):\n",
    "    print(f\"- {key}\")"
   ]
  },
  {
   "cell_type": "code",
   "execution_count": null,
   "id": "be9631ff-f8b1-429f-9a9a-fb181b1f0e13",
   "metadata": {},
   "outputs": [],
   "source": []
  }
 ],
 "metadata": {
  "kernelspec": {
   "display_name": "Python 3 (ipykernel)",
   "language": "python",
   "name": "python3"
  },
  "language_info": {
   "codemirror_mode": {
    "name": "ipython",
    "version": 3
   },
   "file_extension": ".py",
   "mimetype": "text/x-python",
   "name": "python",
   "nbconvert_exporter": "python",
   "pygments_lexer": "ipython3",
   "version": "3.11.12"
  }
 },
 "nbformat": 4,
 "nbformat_minor": 5
}
