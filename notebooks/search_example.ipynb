{
 "cells": [
  {
   "cell_type": "code",
   "execution_count": null,
   "id": "7cc10507",
   "metadata": {
    "vscode": {
     "languageId": "plaintext"
    }
   },
   "outputs": [],
   "source": [
    "import globus_sdk\n",
    "\n",
    "# Use native app credentials if you have a client ID\n",
    "CLIENT_ID = \"04dc20ba-d8e4-4a9a-9cc9-3ed3f3d49447\"\n",
    "\n",
    "auth_client = globus_sdk.NativeAppAuthClient(CLIENT_ID)\n",
    "auth_client.oauth2_start_flow(refresh_tokens=True)\n",
    "\n",
    "authorize_url = auth_client.oauth2_get_authorize_url()\n",
    "print(\"Go to this URL and login:\", authorize_url)\n",
    "\n",
    "auth_code = input(\"Enter the authorization code here: \")\n",
    "token_response = auth_client.oauth2_exchange_code_for_tokens(auth_code)\n",
    "\n",
    "search_tokens = token_response.by_resource_server[\"search.api.globus.org\"]\n",
    "search_authorizer = globus_sdk.AccessTokenAuthorizer(search_tokens[\"access_token\"])\n"
   ]
  },
  {
   "cell_type": "code",
   "execution_count": null,
   "id": "54621968",
   "metadata": {
    "vscode": {
     "languageId": "plaintext"
    }
   },
   "outputs": [],
   "source": [
    "search_client = globus_sdk.SearchClient(authorizer=search_authorizer)\n",
    "\n",
    "INDEX_ID = \"6871e83e-866b-41bc-8430-e3cf83b43bdc\"\n",
    "QUERY = \"example_keyword\"\n",
    "\n",
    "results = search_client.post_search(INDEX_ID, q=QUERY)\n",
    "\n",
    "for entry in results[\"gmeta\"]:\n",
    "    print(entry[\"subject\"])\n",
    "    # Optionally access metadata with entry[\"content\"]"
   ]
  }
 ],
 "metadata": {
  "language_info": {
   "name": "python"
  }
 },
 "nbformat": 4,
 "nbformat_minor": 5
}
