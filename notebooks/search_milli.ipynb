{
 "cells": [
  {
   "cell_type": "markdown",
   "id": "de32443c",
   "metadata": {},
   "source": [
    "# XPCS Notebook \n",
    "This notebook demonstrates how to search and analyze data from Globus Search\n",
    "\n"
   ]
  },
  {
   "cell_type": "code",
   "execution_count": null,
   "id": "ff98bf53",
   "metadata": {},
   "outputs": [],
   "source": [
    "## Globus client ID and portal ID\n",
    "CLIENT_ID = \"04dc20ba-d8e4-4a9a-9cc9-3ed3f3d49447\" \n",
    "# INDEX_ID = \"6871e83e-866b-41bc-8430-e3cf83b43bdc\" # Old XPCS index.\n",
    "INDEX_ID = \"4428cfe6-611b-48db-81b2-167a7d9710ea\"\n",
    "ENDPOINT_ID = \"74defd5b-5f61-42fc-bcc4-834c9f376a4f\"  # Your endpoint ID\n",
    "HTTPS_PATH = None # \"https://g-f6125.fd635.8443.data.globus.org\"\n",
    "LOCAL_PATH = '/eagle/projects/XPCS-DATA-DYS' # Local path to save the files\n",
    "\n",
    "## globus client setup\n",
    "import globus_sdk\n",
    "\n",
    "app = globus_sdk.UserApp(\n",
    "    app_name=\"Notebook Main App\",\n",
    "    client_id=CLIENT_ID)\n",
    "\n",
    "search_client = globus_sdk.SearchClient(app=app)\n",
    "https_scope = f\"https://auth.globus.org/scopes/{ENDPOINT_ID}/https\"\n",
    "app.add_scope_requirements({\"{COLLECTION_ID}\": https_scope})\n",
    "token = app.get_authorizer(ENDPOINT_ID).access_token\n",
    "##\n",
    "\n",
    "\n",
    "## Query function\n",
    "def make_query(query, field_name='dc.identifiers.identifier', filter_value='*',  limit=20):\n",
    "    \n",
    "    query_data = {\n",
    "        'q':query,\n",
    "        'limit': limit,\n",
    "        'advanced' : True,\n",
    "        'filters' : [\n",
    "            {\n",
    "                \"type\": \"like\",\n",
    "                \"field_name\": field_name,\n",
    "                \"value\": filter_value\n",
    "            }\n",
    "        ]\n",
    "    }\n",
    "    print(query_data)\n",
    "    response = search_client.post_search(\n",
    "        index_id=INDEX_ID,\n",
    "        data=query_data\n",
    "        )\n",
    "    print(\"Query results: \" + str(response['total']))\n",
    "    return response\n",
    "\n",
    "# extra functions for plotting and searching\n",
    "from metadata import parse_result_files\n",
    "from metadata import extract_metadata_structure\n",
    "from metadata import extract_entry_key_values\n",
    "\n",
    "from nb_plot import start_new_plot\n",
    "from nb_plot import show_plot\n",
    "from nb_plot import plot_hdf_overlay\n"
   ]
  },
  {
   "cell_type": "code",
   "execution_count": null,
   "id": "188a4d0c",
   "metadata": {},
   "outputs": [],
   "source": [
    "## This is the wrong query, just for testing\n",
    "query = \"bacon\"  # Match all entries (or a specific keyword)\n",
    "make_query(query=query)"
   ]
  },
  {
   "cell_type": "code",
   "execution_count": null,
   "id": "17b0a211",
   "metadata": {},
   "outputs": [],
   "source": [
    "## Full Milliron query\n",
    "query = \"milliron\"  # Match all entries (or a specific keyword)\n",
    "milli_response = make_query(query = query)"
   ]
  },
  {
   "cell_type": "code",
   "execution_count": null,
   "id": "ba4e8497",
   "metadata": {},
   "outputs": [],
   "source": [
    "D100_set = make_query(query = \"milliron\", filter_value='*D100*')\n",
    "\n",
    "# Example usage:\n",
    "local_path = '/eagle/projects/XPCS-DATA-DYS'\n",
    "\n",
    "start_new_plot(title=\"1D Scattering Curves\", logx=True, logy=True)\n",
    "for qfile in D100_set[\"gmeta\"]:\n",
    "    result_file, log_file, image_files = parse_result_files(qfile, local_path)\n",
    "    print(result_file)\n",
    "    plot_hdf_overlay(\n",
    "        result_file, \n",
    "        x = '/xpcs/qmap/static_v_list_dim0', \n",
    "        y = '/xpcs/temporal_mean/scattering_1d',\n",
    "        label = qfile['entries'][0]['content']['dc']['titles'][0]['title'])\n",
    "\n",
    "show_plot()\n"
   ]
  },
  {
   "cell_type": "code",
   "execution_count": null,
   "id": "7b8acc49",
   "metadata": {},
   "outputs": [],
   "source": [
    "G10_set = make_query(query = \"\", field_name='dc.titles.title', filter_value='*F0026_GLC*', limit=50)\n",
    "\n",
    "start_new_plot(title=\"1D Scattering Curves\", logx=True, logy=True)\n",
    "for qfile in G10_set[\"gmeta\"]:\n",
    "    result_file, log_file, image_files = parse_result_files(qfile, local_path)\n",
    "    print(result_file)\n",
    "    plot_hdf_overlay(\n",
    "        result_file, \n",
    "        x = '/xpcs/qmap/static_v_list_dim0', \n",
    "        y = '/xpcs/temporal_mean/scattering_1d',\n",
    "        label = qfile['entries'][0]['content']['dc']['titles'][0]['title'])\n",
    "\n",
    "show_plot()"
   ]
  },
  {
   "cell_type": "code",
   "execution_count": null,
   "id": "a56de822",
   "metadata": {},
   "outputs": [],
   "source": [
    "# from metadata import extract_metadata_structure\n",
    "# from metadata import extract_entry_key_values\n",
    "# extract_metadata_structure(D100_set)\n",
    "# extract_entry_key_values(D100_set['gmeta'][0])"
   ]
  },
  {
   "cell_type": "code",
   "execution_count": null,
   "id": "6c64ac5e",
   "metadata": {},
   "outputs": [],
   "source": []
  },
  {
   "cell_type": "code",
   "execution_count": 1,
   "id": "7cc10507",
   "metadata": {},
   "outputs": [],
   "source": [
    "# Creating the search client\n",
    "\n",
    "## Globus client ID and portal ID\n",
    "CLIENT_ID = \"04dc20ba-d8e4-4a9a-9cc9-3ed3f3d49447\" \n",
    "# INDEX_ID = \"6871e83e-866b-41bc-8430-e3cf83b43bdc\" # Old XPCS index.\n",
    "INDEX_ID = \"4428cfe6-611b-48db-81b2-167a7d9710ea\"\n",
    "ENDPOINT_ID = \"74defd5b-5f61-42fc-bcc4-834c9f376a4f\"  # Your endpoint ID\n",
    "HTTPS_PATH = None # \"https://g-f6125.fd635.8443.data.globus.org\"\n",
    "LOCAL_PATH = '/eagle/projects/XPCS-DATA-DYS' # Local path to save the files\n",
    "\n",
    "import globus_sdk\n",
    "\n",
    "\n",
    "app = globus_sdk.UserApp(\n",
    "    app_name=\"Notebook Main App\",\n",
    "    client_id=CLIENT_ID)\n",
    "\n",
    "search_client = globus_sdk.SearchClient(app=app)\n",
    "\n",
    "\n",
    "# Globus login\n",
    "app.login()\n",
    "\n",
    "## Query function\n",
    "def make_query(query, field_name='dc.identifiers.identifier', filter_value='*',  limit=20):\n",
    "    \n",
    "    query_data = {\n",
    "        'q':query,\n",
    "        'limit': limit,\n",
    "        'advanced' : True,\n",
    "        'filters' : [\n",
    "            {\n",
    "                \"type\": \"like\",\n",
    "                \"field_name\": field_name,\n",
    "                \"value\": filter_value\n",
    "            }\n",
    "        ]\n",
    "    }\n",
    "    print(query_data)\n",
    "    response = search_client.post_search(\n",
    "        index_id=INDEX_ID,\n",
    "        data=query_data\n",
    "        )\n",
    "    print(\"Query results: \" + str(response['total']))\n",
    "    return response"
   ]
  },
  {
   "cell_type": "code",
   "execution_count": 2,
   "id": "2b300ec6-14bd-464a-91e0-cec7cd657d5b",
   "metadata": {},
   "outputs": [],
   "source": [
    "# extra functions for plotting and searching\n",
    "from metadata import parse_result_files\n",
    "from nb_plot import start_new_plot, plot_hdf_overlay, show_plot"
   ]
  },
  {
   "cell_type": "code",
   "execution_count": null,
   "id": "0e36ff1a-880e-4fc2-b1be-0a00e67081ac",
   "metadata": {},
   "outputs": [],
   "source": [
    "## This is the wrong query, just for testing\n",
    "query = \"bacon\"  # Match all entries (or a specific keyword)\n",
    "make_query(query=query)"
   ]
  },
  {
   "cell_type": "code",
   "execution_count": null,
   "id": "d168410a-24db-4a4f-b189-190957d16ad3",
   "metadata": {},
   "outputs": [],
   "source": [
    "## Full Milliron query\n",
    "query = \"milliron\"  # Match all entries (or a specific keyword)\n",
    "milli_response = make_query(query = query)"
   ]
  },
  {
   "cell_type": "code",
   "execution_count": null,
   "id": "8e3d6751",
   "metadata": {},
   "outputs": [],
   "source": [
    "D100_set = make_query(query = \"milliron\", filter_value='*D100*')\n",
    "\n",
    "# Example usage:\n",
    "local_path = '/eagle/projects/XPCS-DATA-DYS'\n",
    "\n",
    "start_new_plot(title=\"1D Scattering Curves\", logx=True, logy=True)\n",
    "for qfile in D100_set[\"gmeta\"]:\n",
    "    result_file, log_file, image_files = parse_result_files(qfile, local_path)\n",
    "    print(result_file)\n",
    "    plot_hdf_overlay(\n",
    "        result_file, \n",
    "        x = '/xpcs/qmap/static_v_list_dim0', \n",
    "        y = '/xpcs/temporal_mean/scattering_1d',\n",
    "        label = qfile['entries'][0]['content']['dc']['titles'][0]['title'])\n",
    "\n",
    "show_plot()\n"
   ]
  },
  {
   "cell_type": "code",
   "execution_count": null,
   "id": "3aea9c32-841f-4311-a979-c6e804a3d7db",
   "metadata": {},
   "outputs": [],
   "source": [
    "G10_set = make_query(query = \"\", field_name='dc.titles.title', filter_value='*F0026_GLC*', limit=50)\n",
    "\n",
    "start_new_plot(title=\"1D Scattering Curves\", logx=True, logy=True)\n",
    "for qfile in G10_set[\"gmeta\"]:\n",
    "    result_file, log_file, image_files = parse_result_files(qfile, local_path)\n",
    "    print(result_file)\n",
    "    plot_hdf_overlay(\n",
    "        result_file, \n",
    "        x = '/xpcs/qmap/static_v_list_dim0', \n",
    "        y = '/xpcs/temporal_mean/scattering_1d',\n",
    "        label = qfile['entries'][0]['content']['dc']['titles'][0]['title'])\n",
    "\n",
    "show_plot()"
   ]
  },
  {
   "cell_type": "code",
   "execution_count": 7,
   "id": "fe2c66a1-9250-4a4b-a085-4a1a1237cf94",
   "metadata": {},
   "outputs": [],
   "source": [
    "# from metadata import extract_metadata_structure\n",
    "# from metadata import extract_entry_key_values\n",
    "# extract_metadata_structure(D100_set)\n",
    "# extract_entry_key_values(D100_set['gmeta'][0])"
   ]
  },
  {
   "cell_type": "code",
   "execution_count": null,
   "id": "fbfe76bb-eec1-4e4b-b9f4-24a584e52da0",
   "metadata": {},
   "outputs": [],
   "source": []
  }
 ],
 "metadata": {
  "kernelspec": {
   "display_name": "ssx",
   "language": "python",
   "name": "python3"
  },
  "language_info": {
   "codemirror_mode": {
    "name": "ipython",
    "version": 3
   },
   "file_extension": ".py",
   "mimetype": "text/x-python",
   "name": "python",
   "nbconvert_exporter": "python",
   "pygments_lexer": "ipython3",
   "version": "3.11.13"
  }
 },
 "nbformat": 4,
 "nbformat_minor": 5
}
