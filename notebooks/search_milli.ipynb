{
 "cells": [
  {
   "cell_type": "code",
   "execution_count": 120,
   "id": "7cc10507",
   "metadata": {},
   "outputs": [],
   "source": [
    "import globus_sdk\n",
    "# Use native app credentials if you have a client ID\n",
    "CLIENT_ID = \"04dc20ba-d8e4-4a9a-9cc9-3ed3f3d49447\" \n",
    "\n",
    "# Create a UserApp instance\n",
    "app = globus_sdk.UserApp(\n",
    "    app_name=\"Notebook Main App\",\n",
    "    client_id=CLIENT_ID)\n",
    "\n",
    "search_client = globus_sdk.SearchClient(app=app)\n",
    "# transfer_client = globus_sdk.TransferClient(app=app)\n",
    "# probably need to add https here\n",
    "\n",
    "# Login if needed (Nick says probably not needed)\n",
    "app.login()"
   ]
  },
  {
   "cell_type": "code",
   "execution_count": 121,
   "id": "e2f51aa6-04a5-4325-af0a-5682dcea3db4",
   "metadata": {},
   "outputs": [],
   "source": [
    "# INDEX_ID = \"6871e83e-866b-41bc-8430-e3cf83b43bdc\" # Old XPCS index.\n",
    "INDEX_ID = \"4428cfe6-611b-48db-81b2-167a7d9710ea\""
   ]
  },
  {
   "cell_type": "code",
   "execution_count": 139,
   "id": "2b300ec6-14bd-464a-91e0-cec7cd657d5b",
   "metadata": {},
   "outputs": [],
   "source": [
    "import os\n",
    "from IPython.display import Image\n",
    "from IPython.display import display\n",
    "from gladier_xpcs.nb_utils.metadata import extract_metadata_structure\n",
    "from gladier_xpcs.nb_utils.metadata import extract_entry_key_values\n",
    "import h5py\n",
    "import matplotlib.pyplot as plt\n",
    "\n",
    "##helpful functions (in development)\n",
    "def make_query(query, field_name='dc.identifiers.identifier', filter_value='*',  limit=10):\n",
    "    \n",
    "    query_data = {\n",
    "        'q':query,\n",
    "        'limit': limit,\n",
    "        'advanced' : True,\n",
    "        'filters' : [\n",
    "            {\n",
    "                \"type\": \"like\",\n",
    "                \"field_name\": field_name,\n",
    "                \"value\": filter_value\n",
    "            }\n",
    "        ]\n",
    "    }\n",
    "    print(query_data)\n",
    "    response = search_client.post_search(\n",
    "        index_id=INDEX_ID,\n",
    "        data=query_data\n",
    "        )\n",
    "    print(\"Query results: \" + str(response['total']))\n",
    "    return response\n",
    "\n",
    "\n",
    "\n",
    "def parse_result_files(q_entry, local_path=None):\n",
    "    entry_files = q_entry[0]['entries'][0]['content']['files'] ## this is a list\n",
    "    result_file = None\n",
    "    log_file = None\n",
    "    image_files = []\n",
    "    globus_url = 'globus://74defd5b-5f61-42fc-bcc4-834c9f376a4f'\n",
    "    for file in entry_files:\n",
    "        if file['filename'].endswith('results.hdf'):\n",
    "            result_file = file['url'] if local_path is None else file['url'].replace(globus_url, local_path)\n",
    "        elif file['filename'].endswith('.log'):\n",
    "            log_file = file['url'] if local_path is None else file['url'].replace(globus_url, local_path)\n",
    "        elif file['filename'].endswith(('.png', '.jpg', '.jpeg')):\n",
    "            image_files.append(file['url'] if local_path is None else file['url'].replace(globus_url, local_path))\n",
    "    return result_file, log_file, image_files\n",
    "\n",
    "\n",
    "def plot_hdf(file: str, x: str = '/xpcs/qmap/dynamic_v_list_dim0', y: str = '/xpcs/temporal_mean/scattering_1d'):\n",
    "    with h5py.File(file, 'r') as f:\n",
    "        x_set = f[x]\n",
    "        y_set = f[y]\n",
    "    # Plotting\n",
    "    plt.figure(figsize=(8, 5))\n",
    "    plt.plot(x_set, y_set , marker='o', linestyle='-', linewidth=2, markersize=4)\n",
    "    plt.xlabel(\"q (1/Å)\", fontsize=12)\n",
    "    plt.ylabel(\"Intensity (a.u.)\", fontsize=12)\n",
    "    plt.title(\"1D Scattering Curve\", fontsize=14)\n",
    "    plt.grid(True, which='both', linestyle='--', alpha=0.6)\n",
    "    plt.tight_layout()\n",
    "    plt.show()\n",
    "    return plt.gcf()\n",
    "\n",
    "\n",
    "def plot_images(image_files): # weird call?\n",
    "    # display(Image(entry_files[4]['url'].replace('globus://74defd5b-5f61-42fc-bcc4-834c9f376a4f', str(here))))\n",
    "    pass\n",
    "\n",
    "\n",
    "# def add_plot\n",
    "\n"
   ]
  },
  {
   "cell_type": "code",
   "execution_count": 140,
   "id": "0e36ff1a-880e-4fc2-b1be-0a00e67081ac",
   "metadata": {},
   "outputs": [
    {
     "name": "stdout",
     "output_type": "stream",
     "text": [
      "{'q': 'bacon', 'limit': 10, 'advanced': True, 'filters': [{'type': 'like', 'field_name': 'dc.identifiers.identifier', 'value': '*'}]}\n",
      "Query results: 0\n"
     ]
    },
    {
     "data": {
      "text/plain": [
       "GlobusHTTPResponse({\"total\":0,\"gmeta\":[],\"@datatype\":\"GSearchResult\",\"@version\":\"2017-09-01\",\"offset\":0,\"count\":0,\"has_next_page\":false})"
      ]
     },
     "execution_count": 140,
     "metadata": {},
     "output_type": "execute_result"
    }
   ],
   "source": [
    "## This is the wrong query, just for testing\n",
    "query = \"bacon\"  # Match all entries (or a specific keyword)\n",
    "make_query(query=query)"
   ]
  },
  {
   "cell_type": "code",
   "execution_count": 141,
   "id": "d168410a-24db-4a4f-b189-190957d16ad3",
   "metadata": {},
   "outputs": [
    {
     "name": "stdout",
     "output_type": "stream",
     "text": [
      "{'q': 'milliron', 'limit': 10, 'advanced': True, 'filters': [{'type': 'like', 'field_name': 'dc.identifiers.identifier', 'value': '*'}]}\n",
      "Query results: 21972\n"
     ]
    }
   ],
   "source": [
    "## Full Milliron query\n",
    "query = \"milliron\"  # Match all entries (or a specific keyword)\n",
    "milli_response = make_query(query = query)"
   ]
  },
  {
   "cell_type": "code",
   "execution_count": 142,
   "id": "abc0964e",
   "metadata": {},
   "outputs": [
    {
     "name": "stdout",
     "output_type": "stream",
     "text": [
      "{'q': 'milliron', 'limit': 10, 'advanced': True, 'filters': [{'type': 'like', 'field_name': 'dc.identifiers.identifier', 'value': '*D100*'}]}\n",
      "Query results: 12\n"
     ]
    }
   ],
   "source": [
    "D100_set = make_query(query = \"milliron\",  filter_value='*D100*')"
   ]
  },
  {
   "cell_type": "code",
   "execution_count": 144,
   "id": "abe5bde4",
   "metadata": {},
   "outputs": [
    {
     "name": "stdout",
     "output_type": "stream",
     "text": [
      "/eagle/projects/XPCS-DATA-DYS/XPCSDATA/Automate/2025-1/milliron202503/rigaku_qmap_Sq360_Dq36_Lin_0501/D0044_D100_a0050_f100000_t534C_r00003/D0044_D100_a0050_f100000_t534C_r00003_results.hdf\n",
      "/eagle/projects/XPCS-DATA-DYS/XPCSDATA/Automate/2025-1/milliron202503/rigaku_qmap_Sq360_Dq36_Lin_0501/D0044_D100_a0050_f100000_t534C_r00003/boost_corr.log\n",
      "['/eagle/projects/XPCS-DATA-DYS/XPCSDATA/Automate/2025-1/milliron202503/rigaku_qmap_Sq360_Dq36_Lin_0501/D0044_D100_a0050_f100000_t534C_r00003/resources/D0044_D100_a0050_f100000_t534C_r00003_results/total_intensity_vs_time.png', '/eagle/projects/XPCS-DATA-DYS/XPCSDATA/Automate/2025-1/milliron202503/rigaku_qmap_Sq360_Dq36_Lin_0501/D0044_D100_a0050_f100000_t534C_r00003/resources/D0044_D100_a0050_f100000_t534C_r00003_results/D0044_D100_a0050_f100000_t534C_r00003_results_g2_corr_000_008.png', '/eagle/projects/XPCS-DATA-DYS/XPCSDATA/Automate/2025-1/milliron202503/rigaku_qmap_Sq360_Dq36_Lin_0501/D0044_D100_a0050_f100000_t534C_r00003/resources/D0044_D100_a0050_f100000_t534C_r00003_results/D0044_D100_a0050_f100000_t534C_r00003_results_g2_corr_009_017.png', '/eagle/projects/XPCS-DATA-DYS/XPCSDATA/Automate/2025-1/milliron202503/rigaku_qmap_Sq360_Dq36_Lin_0501/D0044_D100_a0050_f100000_t534C_r00003/resources/D0044_D100_a0050_f100000_t534C_r00003_results/scattering_pattern_log.png', '/eagle/projects/XPCS-DATA-DYS/XPCSDATA/Automate/2025-1/milliron202503/rigaku_qmap_Sq360_Dq36_Lin_0501/D0044_D100_a0050_f100000_t534C_r00003/resources/D0044_D100_a0050_f100000_t534C_r00003_results/D0044_D100_a0050_f100000_t534C_r00003_results_g2_corr_072_080.png', '/eagle/projects/XPCS-DATA-DYS/XPCSDATA/Automate/2025-1/milliron202503/rigaku_qmap_Sq360_Dq36_Lin_0501/D0044_D100_a0050_f100000_t534C_r00003/resources/D0044_D100_a0050_f100000_t534C_r00003_results/D0044_D100_a0050_f100000_t534C_r00003_results_g2_corr_054_062.png', '/eagle/projects/XPCS-DATA-DYS/XPCSDATA/Automate/2025-1/milliron202503/rigaku_qmap_Sq360_Dq36_Lin_0501/D0044_D100_a0050_f100000_t534C_r00003/resources/D0044_D100_a0050_f100000_t534C_r00003_results/D0044_D100_a0050_f100000_t534C_r00003_results_g2_corr_027_035.png', '/eagle/projects/XPCS-DATA-DYS/XPCSDATA/Automate/2025-1/milliron202503/rigaku_qmap_Sq360_Dq36_Lin_0501/D0044_D100_a0050_f100000_t534C_r00003/resources/D0044_D100_a0050_f100000_t534C_r00003_results/D0044_D100_a0050_f100000_t534C_r00003_results_g2_corr_045_053.png', '/eagle/projects/XPCS-DATA-DYS/XPCSDATA/Automate/2025-1/milliron202503/rigaku_qmap_Sq360_Dq36_Lin_0501/D0044_D100_a0050_f100000_t534C_r00003/resources/D0044_D100_a0050_f100000_t534C_r00003_results/D0044_D100_a0050_f100000_t534C_r00003_results_g2_corr_063_071.png', '/eagle/projects/XPCS-DATA-DYS/XPCSDATA/Automate/2025-1/milliron202503/rigaku_qmap_Sq360_Dq36_Lin_0501/D0044_D100_a0050_f100000_t534C_r00003/resources/D0044_D100_a0050_f100000_t534C_r00003_results/D0044_D100_a0050_f100000_t534C_r00003_results_g2_corr_036_044.png', '/eagle/projects/XPCS-DATA-DYS/XPCSDATA/Automate/2025-1/milliron202503/rigaku_qmap_Sq360_Dq36_Lin_0501/D0044_D100_a0050_f100000_t534C_r00003/resources/D0044_D100_a0050_f100000_t534C_r00003_results/D0044_D100_a0050_f100000_t534C_r00003_results_g2_corr_018_026.png']\n"
     ]
    }
   ],
   "source": [
    "\n",
    "local_path = '/eagle/projects/XPCS-DATA-DYS'\n",
    "result_file, log_file, image_files = parse_result_files(D100_set[\"gmeta\"], local_path)\n",
    "print(result_file)\n",
    "print(log_file)\n",
    "print(image_files)"
   ]
  },
  {
   "cell_type": "code",
   "execution_count": 145,
   "id": "8e3d6751",
   "metadata": {},
   "outputs": [
    {
     "ename": "FileNotFoundError",
     "evalue": "[Errno 2] Unable to synchronously open file (unable to open file: name = '/eagle/projects/XPCS-DATA-DYS/XPCSDATA/Automate/2025-1/milliron202503/rigaku_qmap_Sq360_Dq36_Lin_0501/D0044_D100_a0050_f100000_t534C_r00003/D0044_D100_a0050_f100000_t534C_r00003_results.hdf', errno = 2, error message = 'No such file or directory', flags = 0, o_flags = 0)",
     "output_type": "error",
     "traceback": [
      "\u001b[31m---------------------------------------------------------------------------\u001b[39m",
      "\u001b[31mFileNotFoundError\u001b[39m                         Traceback (most recent call last)",
      "\u001b[36mCell\u001b[39m\u001b[36m \u001b[39m\u001b[32mIn[145]\u001b[39m\u001b[32m, line 1\u001b[39m\n\u001b[32m----> \u001b[39m\u001b[32m1\u001b[39m \u001b[43mplot_hdf\u001b[49m\u001b[43m(\u001b[49m\u001b[43mresult_file\u001b[49m\u001b[43m)\u001b[49m\n",
      "\u001b[36mCell\u001b[39m\u001b[36m \u001b[39m\u001b[32mIn[139]\u001b[39m\u001b[32m, line 51\u001b[39m, in \u001b[36mplot_hdf\u001b[39m\u001b[34m(file, x, y)\u001b[39m\n\u001b[32m     50\u001b[39m \u001b[38;5;28;01mdef\u001b[39;00m\u001b[38;5;250m \u001b[39m\u001b[34mplot_hdf\u001b[39m(file: \u001b[38;5;28mstr\u001b[39m, x: \u001b[38;5;28mstr\u001b[39m = \u001b[33m'\u001b[39m\u001b[33m/xpcs/qmap/dynamic_v_list_dim0\u001b[39m\u001b[33m'\u001b[39m, y: \u001b[38;5;28mstr\u001b[39m = \u001b[33m'\u001b[39m\u001b[33m/xpcs/temporal_mean/scattering_1d\u001b[39m\u001b[33m'\u001b[39m):\n\u001b[32m---> \u001b[39m\u001b[32m51\u001b[39m     \u001b[38;5;28;01mwith\u001b[39;00m \u001b[43mh5py\u001b[49m\u001b[43m.\u001b[49m\u001b[43mFile\u001b[49m\u001b[43m(\u001b[49m\u001b[43mfile\u001b[49m\u001b[43m,\u001b[49m\u001b[43m \u001b[49m\u001b[33;43m'\u001b[39;49m\u001b[33;43mr\u001b[39;49m\u001b[33;43m'\u001b[39;49m\u001b[43m)\u001b[49m \u001b[38;5;28;01mas\u001b[39;00m f:\n\u001b[32m     52\u001b[39m         x_set = f[x]\n\u001b[32m     53\u001b[39m         y_set = f[y]\n",
      "\u001b[36mFile \u001b[39m\u001b[32m~/miniconda3/conda_envs/ssx/lib/python3.11/site-packages/h5py/_hl/files.py:564\u001b[39m, in \u001b[36mFile.__init__\u001b[39m\u001b[34m(self, name, mode, driver, libver, userblock_size, swmr, rdcc_nslots, rdcc_nbytes, rdcc_w0, track_order, fs_strategy, fs_persist, fs_threshold, fs_page_size, page_buf_size, min_meta_keep, min_raw_keep, locking, alignment_threshold, alignment_interval, meta_block_size, **kwds)\u001b[39m\n\u001b[32m    555\u001b[39m     fapl = make_fapl(driver, libver, rdcc_nslots, rdcc_nbytes, rdcc_w0,\n\u001b[32m    556\u001b[39m                      locking, page_buf_size, min_meta_keep, min_raw_keep,\n\u001b[32m    557\u001b[39m                      alignment_threshold=alignment_threshold,\n\u001b[32m    558\u001b[39m                      alignment_interval=alignment_interval,\n\u001b[32m    559\u001b[39m                      meta_block_size=meta_block_size,\n\u001b[32m    560\u001b[39m                      **kwds)\n\u001b[32m    561\u001b[39m     fcpl = make_fcpl(track_order=track_order, fs_strategy=fs_strategy,\n\u001b[32m    562\u001b[39m                      fs_persist=fs_persist, fs_threshold=fs_threshold,\n\u001b[32m    563\u001b[39m                      fs_page_size=fs_page_size)\n\u001b[32m--> \u001b[39m\u001b[32m564\u001b[39m     fid = \u001b[43mmake_fid\u001b[49m\u001b[43m(\u001b[49m\u001b[43mname\u001b[49m\u001b[43m,\u001b[49m\u001b[43m \u001b[49m\u001b[43mmode\u001b[49m\u001b[43m,\u001b[49m\u001b[43m \u001b[49m\u001b[43muserblock_size\u001b[49m\u001b[43m,\u001b[49m\u001b[43m \u001b[49m\u001b[43mfapl\u001b[49m\u001b[43m,\u001b[49m\u001b[43m \u001b[49m\u001b[43mfcpl\u001b[49m\u001b[43m,\u001b[49m\u001b[43m \u001b[49m\u001b[43mswmr\u001b[49m\u001b[43m=\u001b[49m\u001b[43mswmr\u001b[49m\u001b[43m)\u001b[49m\n\u001b[32m    566\u001b[39m \u001b[38;5;28;01mif\u001b[39;00m \u001b[38;5;28misinstance\u001b[39m(libver, \u001b[38;5;28mtuple\u001b[39m):\n\u001b[32m    567\u001b[39m     \u001b[38;5;28mself\u001b[39m._libver = libver\n",
      "\u001b[36mFile \u001b[39m\u001b[32m~/miniconda3/conda_envs/ssx/lib/python3.11/site-packages/h5py/_hl/files.py:238\u001b[39m, in \u001b[36mmake_fid\u001b[39m\u001b[34m(name, mode, userblock_size, fapl, fcpl, swmr)\u001b[39m\n\u001b[32m    236\u001b[39m     \u001b[38;5;28;01mif\u001b[39;00m swmr \u001b[38;5;129;01mand\u001b[39;00m swmr_support:\n\u001b[32m    237\u001b[39m         flags |= h5f.ACC_SWMR_READ\n\u001b[32m--> \u001b[39m\u001b[32m238\u001b[39m     fid = \u001b[43mh5f\u001b[49m\u001b[43m.\u001b[49m\u001b[43mopen\u001b[49m\u001b[43m(\u001b[49m\u001b[43mname\u001b[49m\u001b[43m,\u001b[49m\u001b[43m \u001b[49m\u001b[43mflags\u001b[49m\u001b[43m,\u001b[49m\u001b[43m \u001b[49m\u001b[43mfapl\u001b[49m\u001b[43m=\u001b[49m\u001b[43mfapl\u001b[49m\u001b[43m)\u001b[49m\n\u001b[32m    239\u001b[39m \u001b[38;5;28;01melif\u001b[39;00m mode == \u001b[33m'\u001b[39m\u001b[33mr+\u001b[39m\u001b[33m'\u001b[39m:\n\u001b[32m    240\u001b[39m     fid = h5f.open(name, h5f.ACC_RDWR, fapl=fapl)\n",
      "\u001b[36mFile \u001b[39m\u001b[32mh5py/_objects.pyx:56\u001b[39m, in \u001b[36mh5py._objects.with_phil.wrapper\u001b[39m\u001b[34m()\u001b[39m\n",
      "\u001b[36mFile \u001b[39m\u001b[32mh5py/_objects.pyx:57\u001b[39m, in \u001b[36mh5py._objects.with_phil.wrapper\u001b[39m\u001b[34m()\u001b[39m\n",
      "\u001b[36mFile \u001b[39m\u001b[32mh5py/h5f.pyx:102\u001b[39m, in \u001b[36mh5py.h5f.open\u001b[39m\u001b[34m()\u001b[39m\n",
      "\u001b[31mFileNotFoundError\u001b[39m: [Errno 2] Unable to synchronously open file (unable to open file: name = '/eagle/projects/XPCS-DATA-DYS/XPCSDATA/Automate/2025-1/milliron202503/rigaku_qmap_Sq360_Dq36_Lin_0501/D0044_D100_a0050_f100000_t534C_r00003/D0044_D100_a0050_f100000_t534C_r00003_results.hdf', errno = 2, error message = 'No such file or directory', flags = 0, o_flags = 0)"
     ]
    }
   ],
   "source": [
    "plot_hdf(result_file)"
   ]
  },
  {
   "cell_type": "code",
   "execution_count": 113,
   "id": "be990da5",
   "metadata": {},
   "outputs": [
    {
     "name": "stdout",
     "output_type": "stream",
     "text": [
      "{'q': 'milliron', 'limit': 10, 'advanced': True, 'filters': [{'type': 'like', 'field_name': 'dc.identifiers.identifier', 'value': '*G10*'}]}\n",
      "Query results: 0\n"
     ]
    }
   ],
   "source": [
    "G10_set = make_query(query = \"milliron\",  filter_value='*G10*')"
   ]
  },
  {
   "cell_type": "code",
   "execution_count": 114,
   "id": "a2743084-e6e0-4631-860e-e4b50617a910",
   "metadata": {},
   "outputs": [
    {
     "ename": "FileNotFoundError",
     "evalue": "[Errno 2] No such file or directory: '/eagle/projects/XPCS-DATA-DYS'",
     "output_type": "error",
     "traceback": [
      "\u001b[31m---------------------------------------------------------------------------\u001b[39m",
      "\u001b[31mFileNotFoundError\u001b[39m                         Traceback (most recent call last)",
      "\u001b[36mCell\u001b[39m\u001b[36m \u001b[39m\u001b[32mIn[114]\u001b[39m\u001b[32m, line 1\u001b[39m\n\u001b[32m----> \u001b[39m\u001b[32m1\u001b[39m \u001b[43mos\u001b[49m\u001b[43m.\u001b[49m\u001b[43mchdir\u001b[49m\u001b[43m(\u001b[49m\u001b[33;43m'\u001b[39;49m\u001b[33;43m/eagle/projects/XPCS-DATA-DYS\u001b[39;49m\u001b[33;43m'\u001b[39;49m\u001b[43m)\u001b[49m\n\u001b[32m      2\u001b[39m here = os.getcwd()\n\u001b[32m      3\u001b[39m \u001b[38;5;66;03m# print(\"ALL FILES ON ENTRY\")\u001b[39;00m\n",
      "\u001b[31mFileNotFoundError\u001b[39m: [Errno 2] No such file or directory: '/eagle/projects/XPCS-DATA-DYS'"
     ]
    }
   ],
   "source": [
    "\n",
    "os.chdir('/eagle/projects/XPCS-DATA-DYS')\n",
    "here = os.getcwd()\n",
    "# print(\"ALL FILES ON ENTRY\")\n",
    "entry_files = D100_set['gmeta'][0]['entries'][0]['content']['files'] ## this is a list\n",
    "result_file, log_file, image_files = parse_result_files(entry_files)\n",
    "print(result_file)\n",
    "print(log_file)\n",
    "print(image_files)\n"
   ]
  },
  {
   "cell_type": "code",
   "execution_count": 33,
   "id": "fb64a3e2-afc8-46ba-b3ec-f020b7017165",
   "metadata": {},
   "outputs": [
    {
     "name": "stdout",
     "output_type": "stream",
     "text": [
      "<KeysViewHDF5 ['entry', 'xpcs']>\n",
      "<KeysViewHDF5 ['multitau', 'qmap', 'spatial_mean', 'temporal_mean']>\n",
      "<KeysViewHDF5 ['beam_center_x', 'beam_center_y', 'detector_distance', 'dynamic_index_mapping', 'dynamic_num_pts', 'dynamic_roi_map', 'dynamic_v_list_dim0', 'dynamic_v_list_dim1', 'energy', 'map_names', 'map_units', 'mask', 'pixel_size', 'static_index_mapping', 'static_num_pts', 'static_roi_map', 'static_v_list_dim0', 'static_v_list_dim1']>\n",
      "(36,)\n",
      "(1, 360)\n"
     ]
    }
   ],
   "source": [
    "f = h5py.File('/lus/eagle/projects/XPCS-DATA-DYS/XPCSDATA/Automate/2025-1/milliron202503/rigaku_qmap_Sq360_Dq36_Lin_0501/volfrac315068_26nm-frac_a0118_f100000_r00001/volfrac315068_26nm-frac_a0118_f100000_r00001_results.hdf', 'r')\n",
    "\n",
    "f.keys()\n",
    "print(f.keys())\n",
    "print(f['xpcs'].keys())\n",
    "print(f['xpcs']['qmap'].keys())\n",
    "\n",
    "import h5py\n",
    "import matplotlib.pyplot as plt\n",
    "\n",
    "q = f['xpcs']['qmap']['dynamic_v_list_dim0'][()]\n",
    "intensity = f['xpcs']['temporal_mean']['scattering_1d'][()]\n",
    "print(q.shape)\n",
    "print(intensity.shape)\n",
    "\n",
    "# # Plotting\n",
    "# plt.figure(figsize=(8, 5))\n",
    "# plt.plot(q, intensity, marker='o', linestyle='-', linewidth=2, markersize=4)\n",
    "# plt.xlabel(\"q (1/Å)\", fontsize=12)\n",
    "# plt.ylabel(\"Intensity (a.u.)\", fontsize=12)\n",
    "# plt.title(\"1D Scattering Curve\", fontsize=14)\n",
    "# plt.grid(True, which='both', linestyle='--', alpha=0.6)\n",
    "# plt.tight_layout()\n",
    "# plt.show()\n"
   ]
  },
  {
   "cell_type": "code",
   "execution_count": 34,
   "id": "3a356b1d-28a3-4e4c-85d1-1aebf3807629",
   "metadata": {},
   "outputs": [],
   "source": [
    "## Conversation with QZ. search inside an experiment\n",
    "# Search for *G10* and *D100*\n",
    "# plot q = f['xpcs']['qmap']['dynamic_v_list_dim0'][()] vs. intensity = f['xpcs']['temporal_mean']['scattering_1d'][()]"
   ]
  },
  {
   "cell_type": "code",
   "execution_count": null,
   "id": "27cdd995-a010-4512-9356-d4794b7d1750",
   "metadata": {},
   "outputs": [],
   "source": [
    "extract_metadata_structure(milli_response)\n",
    "\n",
    "# Get key-value pairs for the first entry\n",
    "entry = milli_response[\"gmeta\"][0]\n",
    "values = extract_entry_key_values(entry)\n",
    "\n",
    "# Print all DC metadata\n",
    "print(\"Dublin Core Metadata:\")\n",
    "for key, value in values[\"dc\"]:\n",
    "    print(f\"{key}: {value}\")\n",
    "\n",
    "# Print all project metadata\n",
    "print(\"\\nProject Metadata:\")\n",
    "for key, value in values[\"project_metadata\"]:\n",
    "    print(f\"{key}: {value}\")\n",
    "\n",
    "# Print all file metadata\n",
    "print(\"\\nFile Metadata:\")\n",
    "for key, value in values[\"files\"]:\n",
    "    print(f\"{key}: {value}\")"
   ]
  }
 ],
 "metadata": {
  "kernelspec": {
   "display_name": "xpcs",
   "language": "python",
   "name": "xpcs"
  },
  "language_info": {
   "codemirror_mode": {
    "name": "ipython",
    "version": 3
   },
   "file_extension": ".py",
   "mimetype": "text/x-python",
   "name": "python",
   "nbconvert_exporter": "python",
   "pygments_lexer": "ipython3",
   "version": "3.11.11"
  }
 },
 "nbformat": 4,
 "nbformat_minor": 5
}
